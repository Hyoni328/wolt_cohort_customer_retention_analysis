{
 "cells": [
  {
   "cell_type": "code",
   "execution_count": 3,
   "id": "b07279b7-d5cd-4ad8-9218-f4b85c4bab48",
   "metadata": {},
   "outputs": [],
   "source": [
    "import pandas as pd"
   ]
  },
  {
   "cell_type": "code",
   "execution_count": 4,
   "id": "7752fb42-afec-4c65-943d-b88380cf7439",
   "metadata": {},
   "outputs": [],
   "source": [
    "first_purchases_df = pd.read_csv(r'C:/.../data/first_purchases.csv')\n",
    "purchases_df = pd.read_csv(r'C:/.../data/purchases.csv')"
   ]
  },
  {
   "cell_type": "code",
   "execution_count": 5,
   "id": "82b1381b-ad15-4bc3-b08b-0a97149f74cd",
   "metadata": {},
   "outputs": [],
   "source": [
    "purch_df = purchases_df.copy()"
   ]
  },
  {
   "cell_type": "code",
   "execution_count": 6,
   "id": "71e2a1e9-8b21-4561-bc63-cb5929911944",
   "metadata": {},
   "outputs": [],
   "source": [
    "f_purch_df = first_purchases_df.copy()"
   ]
  },
  {
   "cell_type": "code",
   "execution_count": 7,
   "id": "abe7eaf2-5893-4c65-86c1-bf3bf2df5fd5",
   "metadata": {},
   "outputs": [
    {
     "name": "stdout",
     "output_type": "stream",
     "text": [
      "<class 'pandas.core.frame.DataFrame'>\n",
      "RangeIndex: 227457 entries, 0 to 227456\n",
      "Data columns (total 5 columns):\n",
      " #   Column         Non-Null Count   Dtype \n",
      "---  ------         --------------   ----- \n",
      " 0   purchase_date  227457 non-null  object\n",
      " 1   user_id        227457 non-null  int64 \n",
      " 2   purchase_id    227457 non-null  object\n",
      " 3   venue_id       227457 non-null  object\n",
      " 4   product_line   227457 non-null  object\n",
      "dtypes: int64(1), object(4)\n",
      "memory usage: 8.7+ MB\n"
     ]
    }
   ],
   "source": [
    "purch_df.info()"
   ]
  },
  {
   "cell_type": "code",
   "execution_count": 8,
   "id": "e3696dad-f94a-4a61-8283-7b9fe86292e8",
   "metadata": {},
   "outputs": [],
   "source": [
    "## Convert 'purchase_date' datatype to datetime\n",
    "purch_df['purchase_date'] = pd.to_datetime(purch_df['purchase_date'], format = '%d.%m.%y')"
   ]
  },
  {
   "cell_type": "code",
   "execution_count": 9,
   "id": "c408a18c-fc0e-44bd-9406-8b4dbb4dc7cf",
   "metadata": {},
   "outputs": [
    {
     "name": "stdout",
     "output_type": "stream",
     "text": [
      "<class 'pandas.core.frame.DataFrame'>\n",
      "RangeIndex: 227457 entries, 0 to 227456\n",
      "Data columns (total 5 columns):\n",
      " #   Column         Non-Null Count   Dtype         \n",
      "---  ------         --------------   -----         \n",
      " 0   purchase_date  227457 non-null  datetime64[ns]\n",
      " 1   user_id        227457 non-null  int64         \n",
      " 2   purchase_id    227457 non-null  object        \n",
      " 3   venue_id       227457 non-null  object        \n",
      " 4   product_line   227457 non-null  object        \n",
      "dtypes: datetime64[ns](1), int64(1), object(3)\n",
      "memory usage: 8.7+ MB\n"
     ]
    }
   ],
   "source": [
    "purch_df.info()"
   ]
  },
  {
   "cell_type": "code",
   "execution_count": 10,
   "id": "7b4f5d0d-2872-42a3-b83d-5bd3ce3b04df",
   "metadata": {},
   "outputs": [],
   "source": [
    "## Convert 'first_purchase_date' datatype to datetime\n",
    "f_purch_df['first_purchase_date'] = pd.to_datetime(f_purch_df['first_purchase_date'], format = '%d.%m.%y')"
   ]
  },
  {
   "cell_type": "code",
   "execution_count": 12,
   "id": "4ea680d4-dea2-40b1-b27e-c5609a57b902",
   "metadata": {},
   "outputs": [
    {
     "name": "stdout",
     "output_type": "stream",
     "text": [
      "<class 'pandas.core.frame.DataFrame'>\n",
      "RangeIndex: 71257 entries, 0 to 71256\n",
      "Data columns (total 5 columns):\n",
      " #   Column               Non-Null Count  Dtype         \n",
      "---  ------               --------------  -----         \n",
      " 0   first_purchase_date  71257 non-null  datetime64[ns]\n",
      " 1   user_id              71257 non-null  int64         \n",
      " 2   purchase_id          71257 non-null  object        \n",
      " 3   venue_id             71257 non-null  object        \n",
      " 4   product_line         71257 non-null  object        \n",
      "dtypes: datetime64[ns](1), int64(1), object(3)\n",
      "memory usage: 2.7+ MB\n"
     ]
    }
   ],
   "source": [
    "f_purch_df.info()"
   ]
  },
  {
   "cell_type": "code",
   "execution_count": 11,
   "id": "4a0128c4-1dd7-47d3-8398-04274dafff69",
   "metadata": {},
   "outputs": [
    {
     "data": {
      "text/html": [
       "<div>\n",
       "<style scoped>\n",
       "    .dataframe tbody tr th:only-of-type {\n",
       "        vertical-align: middle;\n",
       "    }\n",
       "\n",
       "    .dataframe tbody tr th {\n",
       "        vertical-align: top;\n",
       "    }\n",
       "\n",
       "    .dataframe thead th {\n",
       "        text-align: right;\n",
       "    }\n",
       "</style>\n",
       "<table border=\"1\" class=\"dataframe\">\n",
       "  <thead>\n",
       "    <tr style=\"text-align: right;\">\n",
       "      <th></th>\n",
       "      <th>first_purchase_date</th>\n",
       "      <th>user_id</th>\n",
       "      <th>purchase_id</th>\n",
       "      <th>venue_id</th>\n",
       "      <th>product_line</th>\n",
       "    </tr>\n",
       "  </thead>\n",
       "  <tbody>\n",
       "    <tr>\n",
       "      <th>0</th>\n",
       "      <td>2020-03-19</td>\n",
       "      <td>6767946</td>\n",
       "      <td>85268e3237f5770</td>\n",
       "      <td>632427c4633</td>\n",
       "      <td>Restaurant</td>\n",
       "    </tr>\n",
       "    <tr>\n",
       "      <th>1</th>\n",
       "      <td>2020-04-11</td>\n",
       "      <td>2059607</td>\n",
       "      <td>76536l2565p7994</td>\n",
       "      <td>398873c9040</td>\n",
       "      <td>Restaurant</td>\n",
       "    </tr>\n",
       "    <tr>\n",
       "      <th>2</th>\n",
       "      <td>2020-04-08</td>\n",
       "      <td>3959440</td>\n",
       "      <td>16109g9441m1972</td>\n",
       "      <td>844144p5894</td>\n",
       "      <td>Restaurant</td>\n",
       "    </tr>\n",
       "    <tr>\n",
       "      <th>3</th>\n",
       "      <td>2020-04-19</td>\n",
       "      <td>1879402</td>\n",
       "      <td>62937z7471t6397</td>\n",
       "      <td>190031r6061</td>\n",
       "      <td>Restaurant</td>\n",
       "    </tr>\n",
       "    <tr>\n",
       "      <th>4</th>\n",
       "      <td>2020-04-16</td>\n",
       "      <td>8216493</td>\n",
       "      <td>37122s5105v7666</td>\n",
       "      <td>280309g4883</td>\n",
       "      <td>Restaurant</td>\n",
       "    </tr>\n",
       "    <tr>\n",
       "      <th>...</th>\n",
       "      <td>...</td>\n",
       "      <td>...</td>\n",
       "      <td>...</td>\n",
       "      <td>...</td>\n",
       "      <td>...</td>\n",
       "    </tr>\n",
       "    <tr>\n",
       "      <th>71252</th>\n",
       "      <td>2020-09-07</td>\n",
       "      <td>1711187</td>\n",
       "      <td>30021y4168i6984</td>\n",
       "      <td>881921j3237</td>\n",
       "      <td>Restaurant</td>\n",
       "    </tr>\n",
       "    <tr>\n",
       "      <th>71253</th>\n",
       "      <td>2020-08-14</td>\n",
       "      <td>5907318</td>\n",
       "      <td>43941e5025n1770</td>\n",
       "      <td>428836a5910</td>\n",
       "      <td>Restaurant</td>\n",
       "    </tr>\n",
       "    <tr>\n",
       "      <th>71254</th>\n",
       "      <td>2020-08-21</td>\n",
       "      <td>8124777</td>\n",
       "      <td>30619e1375g9100</td>\n",
       "      <td>414099g1879</td>\n",
       "      <td>Restaurant</td>\n",
       "    </tr>\n",
       "    <tr>\n",
       "      <th>71255</th>\n",
       "      <td>2020-09-05</td>\n",
       "      <td>1806437</td>\n",
       "      <td>73322r5203t8792</td>\n",
       "      <td>451074q8754</td>\n",
       "      <td>Restaurant</td>\n",
       "    </tr>\n",
       "    <tr>\n",
       "      <th>71256</th>\n",
       "      <td>2020-09-12</td>\n",
       "      <td>2835652</td>\n",
       "      <td>19665s1011b5743</td>\n",
       "      <td>159424f7959</td>\n",
       "      <td>Restaurant</td>\n",
       "    </tr>\n",
       "  </tbody>\n",
       "</table>\n",
       "<p>71257 rows × 5 columns</p>\n",
       "</div>"
      ],
      "text/plain": [
       "      first_purchase_date  user_id      purchase_id     venue_id product_line\n",
       "0              2020-03-19  6767946  85268e3237f5770  632427c4633   Restaurant\n",
       "1              2020-04-11  2059607  76536l2565p7994  398873c9040   Restaurant\n",
       "2              2020-04-08  3959440  16109g9441m1972  844144p5894   Restaurant\n",
       "3              2020-04-19  1879402  62937z7471t6397  190031r6061   Restaurant\n",
       "4              2020-04-16  8216493  37122s5105v7666  280309g4883   Restaurant\n",
       "...                   ...      ...              ...          ...          ...\n",
       "71252          2020-09-07  1711187  30021y4168i6984  881921j3237   Restaurant\n",
       "71253          2020-08-14  5907318  43941e5025n1770  428836a5910   Restaurant\n",
       "71254          2020-08-21  8124777  30619e1375g9100  414099g1879   Restaurant\n",
       "71255          2020-09-05  1806437  73322r5203t8792  451074q8754   Restaurant\n",
       "71256          2020-09-12  2835652  19665s1011b5743  159424f7959   Restaurant\n",
       "\n",
       "[71257 rows x 5 columns]"
      ]
     },
     "execution_count": 11,
     "metadata": {},
     "output_type": "execute_result"
    }
   ],
   "source": [
    "f_purch_df"
   ]
  },
  {
   "cell_type": "code",
   "execution_count": 13,
   "id": "f99d405e-583e-431b-bc3d-14fb3693c7e6",
   "metadata": {},
   "outputs": [
    {
     "data": {
      "text/plain": [
       "0"
      ]
     },
     "execution_count": 13,
     "metadata": {},
     "output_type": "execute_result"
    }
   ],
   "source": [
    "f_purch_df.duplicated().sum()"
   ]
  },
  {
   "cell_type": "code",
   "execution_count": 14,
   "id": "f3ff0ba4-5510-478d-87c3-25ffdb9436f3",
   "metadata": {},
   "outputs": [
    {
     "name": "stdout",
     "output_type": "stream",
     "text": [
      "<class 'pandas.core.frame.DataFrame'>\n",
      "RangeIndex: 227457 entries, 0 to 227456\n",
      "Data columns (total 5 columns):\n",
      " #   Column         Non-Null Count   Dtype         \n",
      "---  ------         --------------   -----         \n",
      " 0   purchase_date  227457 non-null  datetime64[ns]\n",
      " 1   user_id        227457 non-null  int64         \n",
      " 2   purchase_id    227457 non-null  object        \n",
      " 3   venue_id       227457 non-null  object        \n",
      " 4   product_line   227457 non-null  object        \n",
      "dtypes: datetime64[ns](1), int64(1), object(3)\n",
      "memory usage: 8.7+ MB\n"
     ]
    }
   ],
   "source": [
    "purch_df.info()"
   ]
  },
  {
   "cell_type": "code",
   "execution_count": 15,
   "id": "54a05a75-45da-4645-add7-1db24d68fd33",
   "metadata": {},
   "outputs": [
    {
     "data": {
      "text/plain": [
       "0"
      ]
     },
     "execution_count": 15,
     "metadata": {},
     "output_type": "execute_result"
    }
   ],
   "source": [
    "(purch_df['purchase_id'].str.len() != 15).sum()"
   ]
  },
  {
   "cell_type": "code",
   "execution_count": 16,
   "id": "fda33bbc-0c70-4734-9aea-8eeaa645e103",
   "metadata": {},
   "outputs": [
    {
     "data": {
      "text/plain": [
       "0"
      ]
     },
     "execution_count": 16,
     "metadata": {},
     "output_type": "execute_result"
    }
   ],
   "source": [
    "(purch_df['venue_id'].str.len() != 11).sum()"
   ]
  },
  {
   "cell_type": "code",
   "execution_count": 17,
   "id": "e71bd1aa-caf7-4790-a182-651ea03efbda",
   "metadata": {},
   "outputs": [
    {
     "data": {
      "text/plain": [
       "0         10\n",
       "1         12\n",
       "2         12\n",
       "3         10\n",
       "4         10\n",
       "          ..\n",
       "227452    10\n",
       "227453    10\n",
       "227454    10\n",
       "227455    10\n",
       "227456    12\n",
       "Name: product_line, Length: 227457, dtype: int64"
      ]
     },
     "execution_count": 17,
     "metadata": {},
     "output_type": "execute_result"
    }
   ],
   "source": [
    "purch_df['product_line'].str.len()"
   ]
  },
  {
   "cell_type": "code",
   "execution_count": 18,
   "id": "b15717ea-a4d6-471e-8136-044b99c91b82",
   "metadata": {},
   "outputs": [
    {
     "data": {
      "text/plain": [
       "0"
      ]
     },
     "execution_count": 18,
     "metadata": {},
     "output_type": "execute_result"
    }
   ],
   "source": [
    "## check if first_purchase_date has unique customer ID\n",
    "f_purch_df['user_id'].duplicated().sum()"
   ]
  },
  {
   "cell_type": "code",
   "execution_count": 19,
   "id": "c90c85c2-2d64-419c-9b44-399219ec0b5a",
   "metadata": {},
   "outputs": [
    {
     "data": {
      "text/plain": [
       "(Timestamp('2020-04-21 00:00:00'), Timestamp('2020-10-31 00:00:00'))"
      ]
     },
     "execution_count": 19,
     "metadata": {},
     "output_type": "execute_result"
    }
   ],
   "source": [
    "purch_df['purchase_date'].min(), purch_df['purchase_date'].max()"
   ]
  },
  {
   "cell_type": "code",
   "execution_count": 20,
   "id": "294d3690-ca14-4d0e-80f1-309dbb73759b",
   "metadata": {},
   "outputs": [
    {
     "data": {
      "text/plain": [
       "(Timestamp('2020-03-12 00:00:00'), Timestamp('2020-09-21 00:00:00'))"
      ]
     },
     "execution_count": 20,
     "metadata": {},
     "output_type": "execute_result"
    }
   ],
   "source": [
    "f_purch_df['first_purchase_date'].min(), f_purch_df['first_purchase_date'].max()"
   ]
  },
  {
   "cell_type": "code",
   "execution_count": 21,
   "id": "7df8f658-29a5-4ba6-b239-8feba5674443",
   "metadata": {},
   "outputs": [
    {
     "data": {
      "text/plain": [
       "array([5179432, 3725625, 6767946, ..., 9593213, 5198771, 9586470],\n",
       "      dtype=int64)"
      ]
     },
     "execution_count": 21,
     "metadata": {},
     "output_type": "execute_result"
    }
   ],
   "source": [
    "purch_df['user_id'].unique()"
   ]
  },
  {
   "cell_type": "markdown",
   "id": "1876759a-7ebc-48bf-89fd-2544c70a96d3",
   "metadata": {},
   "source": [
    "## To SQL"
   ]
  },
  {
   "cell_type": "code",
   "execution_count": 105,
   "id": "d65197b9-d6b5-4703-9b66-425dc551a00c",
   "metadata": {},
   "outputs": [],
   "source": [
    "schema = \"wolt\"\n",
    "host = \"localhost\"\n",
    "user = \"\"\n",
    "password = \"!\"\n",
    "port = 3306\n",
    "\n",
    "connection_string = f'mysql+pymysql://{user}:{password}@{host}:{port}/{schema}'"
   ]
  },
  {
   "cell_type": "code",
   "execution_count": 107,
   "id": "6da69144-fe8b-4d17-8048-81263439bdea",
   "metadata": {},
   "outputs": [
    {
     "data": {
      "text/plain": [
       "227457"
      ]
     },
     "execution_count": 107,
     "metadata": {},
     "output_type": "execute_result"
    }
   ],
   "source": [
    "# purch_df.to_sql('purchases',\n",
    "#                 if_exists = 'append',\n",
    "#                 index = False,\n",
    "#                 con=connection_string)"
   ]
  },
  {
   "cell_type": "code",
   "execution_count": 109,
   "id": "d6d5ac82-cdb1-49eb-bae5-7f2b178bc04b",
   "metadata": {},
   "outputs": [
    {
     "data": {
      "text/plain": [
       "71257"
      ]
     },
     "execution_count": 109,
     "metadata": {},
     "output_type": "execute_result"
    }
   ],
   "source": [
    "# f_purch_df.to_sql('first_purchases',\n",
    "#                   if_exists = 'append',\n",
    "#                   index = False,\n",
    "#                   con = connection_string)"
   ]
  }
 ],
 "metadata": {
  "kernelspec": {
   "display_name": "Python 3 (ipykernel)",
   "language": "python",
   "name": "python3"
  },
  "language_info": {
   "codemirror_mode": {
    "name": "ipython",
    "version": 3
   },
   "file_extension": ".py",
   "mimetype": "text/x-python",
   "name": "python",
   "nbconvert_exporter": "python",
   "pygments_lexer": "ipython3",
   "version": "3.12.4"
  }
 },
 "nbformat": 4,
 "nbformat_minor": 5
}
